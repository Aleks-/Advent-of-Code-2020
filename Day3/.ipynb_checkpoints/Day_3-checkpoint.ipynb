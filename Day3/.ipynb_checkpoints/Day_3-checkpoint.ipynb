{
 "cells": [
  {
   "cell_type": "code",
   "execution_count": 128,
   "metadata": {},
   "outputs": [
    {
     "name": "stdout",
     "output_type": "stream",
     "text": [
      "322 rows,  32 symbols, 71 times to copy\n"
     ]
    }
   ],
   "source": [
    "import pprint\n",
    "import math\n",
    "\n",
    "rows = 0\n",
    "with open('input.txt') as f:\n",
    "    length = (len(f.readline()))\n",
    "    for line in f:\n",
    "        rows += 1\n",
    "times_to_copy = math.ceil((rows*7)/length)\n",
    "print(rows,'rows, ', length, 'symbols,', times_to_copy, 'times to copy')\n"
   ]
  },
  {
   "cell_type": "code",
   "execution_count": 130,
   "metadata": {},
   "outputs": [
    {
     "name": "stdout",
     "output_type": "stream",
     "text": [
      "1 1 61\n",
      "1 3 257\n",
      "1 5 64\n",
      "1 7 47\n",
      "2 1 37\n",
      "1744787392\n"
     ]
    }
   ],
   "source": [
    "block = []\n",
    "with open('input.txt') as f:\n",
    "    for line in f:\n",
    "        line = line.strip('\\n')\n",
    "        #line = [char for char in line]  \n",
    "        row = list(line)\n",
    "        for i in range(times_to_copy+1):\n",
    "            row += line\n",
    "        #newline = [chars for i in range(times_to_copy)]\n",
    "        block.append(row)\n",
    "\n",
    "#[row.split() for row in block]        \n",
    "\n",
    "multiplyed = 1\n",
    "\n",
    "down = [1,1,1,1,2]\n",
    "right = [1,3,5,7,1]\n",
    "\n",
    "for d,r in zip(down,right):  # loop over all pair combinations of slopes\n",
    "    i,j, open_spaces, trees = 0,0,0,0   # starting position\n",
    "    for n in range(int(rows/d)):  # loops from first to last row divided by the down slope\n",
    "        i += d               \n",
    "        j += r\n",
    "        #print(block[i][j])\n",
    "        if block[i][j] == '.':       # . is open space\n",
    "            block[i][j] = 0\n",
    "            open_spaces += 1\n",
    "            #print(open_spaces)\n",
    "        else:                        # the only other string is #, which represents a tree\n",
    "            block[i][j] = 'X'         \n",
    "            trees += 1\n",
    "    print(d,r,trees)\n",
    "    multiplyed *= trees\n",
    "    \n",
    "print(multiplyed)\n",
    "\n",
    "    \n",
    "    \n",
    "\n",
    "     "
   ]
  },
  {
   "cell_type": "code",
   "execution_count": 39,
   "metadata": {
    "collapsed": true,
    "jupyter": {
     "outputs_hidden": true
    }
   },
   "outputs": [
    {
     "name": "stdout",
     "output_type": "stream",
     "text": [
      ". . # # . . . . . . . . . # # . . . . . . . . . # # . . . . . . . \n",
      "# . . . # . . . # . . # . . . # . . . # . . # . . . # . . . # . . \n",
      ". # . . . . # . . # . . # . . . . # . . # . . # . . . . # . . # . \n",
      ". . # . # . . . # . # . . # . # . . . # . # . . # . # . . . # . # \n",
      ". # . . . # # . . # . . # . . . # # . . # . . # . . . # # . . # . \n",
      ". . # . # # . . . . . . . # . # # . . . . . . . # . # # . . . . . \n",
      ". # . # . # . . . . # . # . # . # . . . . # . # . # . # . . . . # \n",
      ". # . . . . . . . . # . # . . . . . . . . # . # . . . . . . . . # \n",
      "# . # # . . . # . . . # . # # . . . # . . . # . # # . . . # . . . \n",
      "# . . . # # . . . . # # . . . # # . . . . # # . . . # # . . . . # \n",
      ". # . . # . . . # . # . # . . # . . . # . # . # . . # . . . # . # \n"
     ]
    }
   ],
   "source": [
    "for r in block:\n",
    "    for c in r:\n",
    "        print(c, end = \" \")\n",
    "    print()"
   ]
  }
 ],
 "metadata": {
  "kernelspec": {
   "display_name": "Python 3",
   "language": "python",
   "name": "python3"
  },
  "language_info": {
   "codemirror_mode": {
    "name": "ipython",
    "version": 3
   },
   "file_extension": ".py",
   "mimetype": "text/x-python",
   "name": "python",
   "nbconvert_exporter": "python",
   "pygments_lexer": "ipython3",
   "version": "3.7.6"
  }
 },
 "nbformat": 4,
 "nbformat_minor": 4
}
