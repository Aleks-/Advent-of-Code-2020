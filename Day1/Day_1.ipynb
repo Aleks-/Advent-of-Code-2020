{
 "cells": [
  {
   "cell_type": "code",
   "execution_count": 28,
   "metadata": {},
   "outputs": [],
   "source": [
    "with open('Input.txt') as f:\n",
    "    nums = f.readlines()\n",
    "    nums = [int(n) for n in nums]"
   ]
  },
  {
   "cell_type": "code",
   "execution_count": 56,
   "metadata": {},
   "outputs": [
    {
     "name": "stdout",
     "output_type": "stream",
     "text": [
      "689 + 615 + 716 = 2020\n",
      "689 * 615 * 716 = 303394260\n"
     ]
    }
   ],
   "source": [
    "goal = 2020\n",
    "for i in range(len(nums)):\n",
    "    for j in range(i, len(nums)):\n",
    "        for k in range(j, len(nums)):\n",
    "            if nums[i] + nums[j] + nums[k] != goal:\n",
    "                continue\n",
    "            print(nums[i], \"+\", nums[j], \"+\", nums[k], \"=\", nums[i] + nums[j] + nums[k])\n",
    "            print(nums[i], \"*\", nums[j], \"*\", nums[k], \"=\", nums[i] * nums[j] * nums[k])\n",
    "            \n",
    "        \n",
    "    \n",
    "    \n",
    "    \n",
    "    \n"
   ]
  }
 ],
 "metadata": {
  "kernelspec": {
   "display_name": "Python 3",
   "language": "python",
   "name": "python3"
  },
  "language_info": {
   "codemirror_mode": {
    "name": "ipython",
    "version": 3
   },
   "file_extension": ".py",
   "mimetype": "text/x-python",
   "name": "python",
   "nbconvert_exporter": "python",
   "pygments_lexer": "ipython3",
   "version": "3.7.6"
  }
 },
 "nbformat": 4,
 "nbformat_minor": 4
}
