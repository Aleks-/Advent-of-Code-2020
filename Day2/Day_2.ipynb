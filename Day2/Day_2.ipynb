{
 "cells": [
  {
   "cell_type": "code",
   "execution_count": 1,
   "metadata": {},
   "outputs": [
    {
     "name": "stdout",
     "output_type": "stream",
     "text": [
      "294\n"
     ]
    }
   ],
   "source": [
    "import re\n",
    "\n",
    "Part_one = False\n",
    "\n",
    "valid = 0\n",
    "with open('Day_2.txt') as f:\n",
    "    for line in f:\n",
    "        #line = f.readline()  \n",
    "        pattern = re.compile(r'(\\d+)\\W(\\d+)\\s([a-z])\\W\\s(\\w*)', re.DOTALL)    # regex for numbers\n",
    "        matches = pattern.findall(line)\n",
    "        lowest = int(matches[0][0])\n",
    "        highest = int(matches[0][1])\n",
    "        letter = matches[0][2]\n",
    "        password = matches[0][3]\n",
    "        \n",
    "        if Part_one:\n",
    "            num_of_letters = password.count(letter)\n",
    "        \n",
    "            if num_of_letters >= lowest and num_of_letters <= highest:\n",
    "                valid += 1\n",
    "            else:\n",
    "                None\n",
    "                \n",
    "        if not Part_one:\n",
    "            x = password[lowest-1] == letter\n",
    "            y = password[highest-1] == letter\n",
    "            if (not(x and y) and (x or y)):\n",
    "                valid += 1\n",
    "            else:\n",
    "                None      \n",
    "            \n",
    "print(valid)\n",
    "           \n",
    " \n",
    "  "
   ]
  },
  {
   "cell_type": "code",
   "execution_count": 54,
   "metadata": {},
   "outputs": [],
   "source": [
    "password = 'abcdef'\n",
    "lowest = 1\n",
    "highest = 3\n",
    "letter = 'a'"
   ]
  },
  {
   "cell_type": "code",
   "execution_count": 55,
   "metadata": {},
   "outputs": [],
   "source": [
    "x = password[lowest-1] == letter\n",
    "y = password[highest-1] == letter"
   ]
  },
  {
   "cell_type": "code",
   "execution_count": 56,
   "metadata": {},
   "outputs": [
    {
     "data": {
      "text/plain": [
       "True"
      ]
     },
     "execution_count": 56,
     "metadata": {},
     "output_type": "execute_result"
    }
   ],
   "source": [
    "(not(x) or not(y)) and (x or y) "
   ]
  },
  {
   "cell_type": "code",
   "execution_count": 63,
   "metadata": {},
   "outputs": [
    {
     "data": {
      "text/plain": [
       "True"
      ]
     },
     "execution_count": 63,
     "metadata": {},
     "output_type": "execute_result"
    }
   ],
   "source": [
    "(not(x) or not(y))"
   ]
  },
  {
   "cell_type": "code",
   "execution_count": 60,
   "metadata": {},
   "outputs": [
    {
     "data": {
      "text/plain": [
       "False"
      ]
     },
     "execution_count": 60,
     "metadata": {},
     "output_type": "execute_result"
    }
   ],
   "source": [
    "not(x)"
   ]
  },
  {
   "cell_type": "code",
   "execution_count": 61,
   "metadata": {},
   "outputs": [
    {
     "data": {
      "text/plain": [
       "True"
      ]
     },
     "execution_count": 61,
     "metadata": {},
     "output_type": "execute_result"
    }
   ],
   "source": [
    "not(y)"
   ]
  },
  {
   "cell_type": "code",
   "execution_count": 65,
   "metadata": {},
   "outputs": [
    {
     "data": {
      "text/plain": [
       "True"
      ]
     },
     "execution_count": 65,
     "metadata": {},
     "output_type": "execute_result"
    }
   ],
   "source": [
    "not(x and y)"
   ]
  },
  {
   "cell_type": "code",
   "execution_count": 62,
   "metadata": {},
   "outputs": [
    {
     "data": {
      "text/plain": [
       "True"
      ]
     },
     "execution_count": 62,
     "metadata": {},
     "output_type": "execute_result"
    }
   ],
   "source": [
    "x or y"
   ]
  },
  {
   "cell_type": "code",
   "execution_count": null,
   "metadata": {},
   "outputs": [],
   "source": []
  }
 ],
 "metadata": {
  "kernelspec": {
   "display_name": "Python 3",
   "language": "python",
   "name": "python3"
  },
  "language_info": {
   "codemirror_mode": {
    "name": "ipython",
    "version": 3
   },
   "file_extension": ".py",
   "mimetype": "text/x-python",
   "name": "python",
   "nbconvert_exporter": "python",
   "pygments_lexer": "ipython3",
   "version": "3.7.6"
  }
 },
 "nbformat": 4,
 "nbformat_minor": 4
}
