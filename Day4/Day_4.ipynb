{
 "cells": [
  {
   "cell_type": "markdown",
   "metadata": {},
   "source": [
    "Fields:\n",
    "\n",
    "byr (Birth Year)\n",
    "iyr (Issue Year)\n",
    "eyr (Expiration Year)\n",
    "hgt (Height)\n",
    "hcl (Hair Color)\n",
    "ecl (Eye Color)\n",
    "pid (Passport ID)\n",
    "cid (Country ID)  optional\n",
    "\n"
   ]
  },
  {
   "cell_type": "code",
   "execution_count": 1,
   "metadata": {},
   "outputs": [],
   "source": [
    "fields = ['byr', 'iyr', 'eyr', 'hgt', 'hcl', 'ecl', 'pid']\n",
    "optional = 'cid'"
   ]
  },
  {
   "cell_type": "code",
   "execution_count": 25,
   "metadata": {},
   "outputs": [
    {
     "name": "stdout",
     "output_type": "stream",
     "text": [
      "237\n"
     ]
    }
   ],
   "source": [
    "# Part 1\n",
    "\n",
    "#read from file and split by passports\n",
    "with open(\"input.txt\") as f:\n",
    "    data = f.read().replace('\\n\\n', ';').replace('\\n', ' ').replace(';', '\\n').split('\\n')\n",
    "    valid = len(data) #suppose all are valid\n",
    "    for line in data:\n",
    "        #print(line)\n",
    "        for field in fields:\n",
    "            if field not in line:\n",
    "                valid += -1\n",
    "                break                # stop at one field missing as passport is already invalid\n",
    "            \n",
    "    print(valid)\n",
    "        \n",
    "        \n",
    "    #data = f.read().replace(' ', ',').replace(\"\\n\\n\",';').replace(\"\\n\",',').replace(\";\", \"\\n\")"
   ]
  }
 ],
 "metadata": {
  "kernelspec": {
   "display_name": "Python 3",
   "language": "python",
   "name": "python3"
  },
  "language_info": {
   "codemirror_mode": {
    "name": "ipython",
    "version": 3
   },
   "file_extension": ".py",
   "mimetype": "text/x-python",
   "name": "python",
   "nbconvert_exporter": "python",
   "pygments_lexer": "ipython3",
   "version": "3.7.6"
  }
 },
 "nbformat": 4,
 "nbformat_minor": 4
}
